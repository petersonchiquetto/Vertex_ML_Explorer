{
  "nbformat": 4,
  "nbformat_minor": 0,
  "metadata": {
    "colab": {
      "provenance": []
    },
    "kernelspec": {
      "name": "python3",
      "display_name": "Python 3"
    },
    "language_info": {
      "name": "python"
    }
  },
  "cells": [
    {
      "cell_type": "code",
      "source": [
        "from google.oauth2 import service_account\n",
        "from google.cloud import aiplatform\n",
        "\n",
        "credentials = service_account.Credentials.from_service_account_file(\n",
        "    'alura.json'\n",
        ")"
      ],
      "metadata": {
        "id": "af3PIohIF4xX"
      },
      "execution_count": null,
      "outputs": []
    },
    {
      "cell_type": "code",
      "source": [
        "client = aiplatform.gapic.PredictionServiceClient(credentials=credentials)"
      ],
      "metadata": {
        "id": "onsmQ0fhGA7Q"
      },
      "execution_count": null,
      "outputs": []
    },
    {
      "cell_type": "code",
      "source": [
        "import base64\n",
        "from google.cloud.aiplatform.gapic.schema import predict\n",
        "\n",
        "def predict_image_classification_sample(\n",
        "    project: str,\n",
        "    endpoint_id: str,\n",
        "    filename: str,\n",
        "    location: str = \"us-central1\",\n",
        "    api_endpoint: str = \"us-central1-aiplatform.googleapis.com\",\n",
        "    service_account_json: str = 'alura.json',\n",
        "):\n",
        "    # Cria as credenciais a partir do arquivo de chave de serviço.\n",
        "    credentials = service_account.Credentials.from_service_account_file(\n",
        "        service_account_json\n",
        "    )\n",
        "\n",
        "    # As opções do cliente requerem pontos finais de API regionais.\n",
        "    client_options = {\"api_endpoint\": api_endpoint}\n",
        "\n",
        "    # Inicializa o cliente que será usado para criar e enviar solicitações.\n",
        "    client = aiplatform.gapic.PredictionServiceClient(client_options=client_options, credentials=credentials)\n",
        "\n",
        "    with open(filename, \"rb\") as f:\n",
        "        file_content = f.read()\n",
        "\n",
        "    # O formato de cada instância deve estar de acordo com o esquema de entrada de previsão do modelo implantado.\n",
        "    encoded_content = base64.b64encode(file_content).decode(\"utf-8\")\n",
        "    instance = predict.instance.ImageClassificationPredictionInstance(\n",
        "        content=encoded_content,\n",
        "    ).to_value()\n",
        "    instances = [instance]\n",
        "\n",
        "    # Consulte gs://google-cloud-aiplatform/schema/predict/params/image_classification_1.0.0.yaml para o formato dos parâmetros.\n",
        "    parameters = predict.params.ImageClassificationPredictionParams(\n",
        "        confidence_threshold=0.5,\n",
        "        max_predictions=5,\n",
        "    ).to_value()\n",
        "    endpoint = client.endpoint_path(\n",
        "        project=project, location=location, endpoint=endpoint_id\n",
        "    )\n",
        "\n",
        "    # Faz a previsão\n",
        "    response = client.predict(\n",
        "        endpoint=endpoint, instances=instances, parameters=parameters\n",
        "    )\n",
        "\n",
        "    # Processa a resposta\n",
        "    print(\"response\")\n",
        "    print(\" deployed_model_id:\", response.deployed_model_id)\n",
        "    predictions = response.predictions\n",
        "    for prediction in predictions:\n",
        "        print(\" prediction:\", dict(prediction))\n",
        "\n",
        "# Exemplo de como chamar a função:\n",
        "# predict_image_classification_sample(\n",
        "#     project=\"your-project-id\",\n",
        "#     endpoint_id=\"your-endpoint-id\",\n",
        "#     filename=\"/caminho/para/imagem.jpg\",\n",
        "#     service_account_json=\"/caminho/para/sua-chave-servico.json\"\n",
        "# )\n"
      ],
      "metadata": {
        "id": "7EF8KXFyGjpM"
      },
      "execution_count": null,
      "outputs": []
    },
    {
      "cell_type": "code",
      "source": [
        "predict_image_classification_sample(\n",
        "    project=\"634587506752\",\n",
        "    endpoint_id=\"7670344847970009088\",\n",
        "    filename=\"Russula_1117.jpg\",\n",
        "    service_account_json=\"alura.json\"\n",
        ")"
      ],
      "metadata": {
        "colab": {
          "base_uri": "https://localhost:8080/"
        },
        "id": "MbHPJMGQGxGw",
        "outputId": "decc546f-6bdc-4c1a-ae35-6ce2960c91f0"
      },
      "execution_count": null,
      "outputs": [
        {
          "output_type": "stream",
          "name": "stdout",
          "text": [
            "response\n",
            " deployed_model_id: 4638643844517199872\n",
            " prediction: {'ids': ['8470721418147921920'], 'confidences': [0.949509263], 'displayNames': ['Russula']}\n"
          ]
        }
      ]
    },
    {
      "cell_type": "code",
      "source": [],
      "metadata": {
        "id": "TbfjNp95_q30"
      },
      "execution_count": null,
      "outputs": []
    }
  ]
}
